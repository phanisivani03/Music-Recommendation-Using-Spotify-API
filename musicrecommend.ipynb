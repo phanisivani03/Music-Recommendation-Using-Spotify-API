{
  "nbformat": 4,
  "nbformat_minor": 0,
  "metadata": {
    "colab": {
      "provenance": [],
      "authorship_tag": "ABX9TyPejSsDVhzq5JI9gfZMQ0rK",
      "include_colab_link": true
    },
    "kernelspec": {
      "name": "python3",
      "display_name": "Python 3"
    },
    "language_info": {
      "name": "python"
    }
  },
  "cells": [
    {
      "cell_type": "markdown",
      "metadata": {
        "id": "view-in-github",
        "colab_type": "text"
      },
      "source": [
        "<a href=\"https://colab.research.google.com/github/phanisivani03/Music-Recommendation-Using-Spotify-API/blob/main/musicrecommend.ipynb\" target=\"_parent\"><img src=\"https://colab.research.google.com/assets/colab-badge.svg\" alt=\"Open In Colab\"/></a>"
      ]
    },
    {
      "cell_type": "code",
      "execution_count": null,
      "metadata": {
        "colab": {
          "base_uri": "https://localhost:8080/"
        },
        "id": "IK20adP1i4az",
        "outputId": "4ba4744a-80a0-4504-ec89-a3e8b7539f6d"
      },
      "outputs": [
        {
          "output_type": "stream",
          "name": "stdout",
          "text": [
            "Access token obtained successfully.\n"
          ]
        }
      ],
      "source": [
        "import requests\n",
        "import base64\n",
        "\n",
        "# Replace with your own Client ID and Client Secret\n",
        "CLIENT_ID = '82aeecc7202f4af99efb3ec0b9a3cc25'\n",
        "CLIENT_SECRET = '35fc4d4a3a384746a267ece6f2c6e036'\n",
        "\n",
        "# Base64 encode the client ID and client secret\n",
        "client_credentials = f\"{CLIENT_ID}:{CLIENT_SECRET}\"\n",
        "client_credentials_base64 = base64.b64encode(client_credentials.encode())\n",
        "\n",
        "# Request the access token\n",
        "token_url = 'https://accounts.spotify.com/api/token'\n",
        "headers = {\n",
        "    'Authorization': f'Basic {client_credentials_base64.decode()}'\n",
        "}\n",
        "data = {\n",
        "    'grant_type': 'client_credentials'\n",
        "}\n",
        "response = requests.post(token_url, data=data, headers=headers)\n",
        "\n",
        "if response.status_code == 200:\n",
        "    access_token = response.json()['access_token']\n",
        "    print(\"Access token obtained successfully.\")\n",
        "else:\n",
        "    print(\"Error obtaining access token.\")\n",
        "    exit()"
      ]
    },
    {
      "cell_type": "code",
      "source": [
        "pip install spotipy"
      ],
      "metadata": {
        "colab": {
          "base_uri": "https://localhost:8080/"
        },
        "id": "n8_3NReskcch",
        "outputId": "2f4cb2a9-c5d2-4a06-aaaf-58c8f6dc704d"
      },
      "execution_count": null,
      "outputs": [
        {
          "output_type": "stream",
          "name": "stdout",
          "text": [
            "Collecting spotipy\n",
            "  Downloading spotipy-2.23.0-py3-none-any.whl (29 kB)\n",
            "Collecting redis>=3.5.3 (from spotipy)\n",
            "  Downloading redis-5.0.1-py3-none-any.whl (250 kB)\n",
            "\u001b[2K     \u001b[90m━━━━━━━━━━━━━━━━━━━━━━━━━━━━━━━━━━━━━━━━\u001b[0m \u001b[32m250.3/250.3 kB\u001b[0m \u001b[31m6.3 MB/s\u001b[0m eta \u001b[36m0:00:00\u001b[0m\n",
            "\u001b[?25hRequirement already satisfied: requests>=2.25.0 in /usr/local/lib/python3.10/dist-packages (from spotipy) (2.31.0)\n",
            "Requirement already satisfied: six>=1.15.0 in /usr/local/lib/python3.10/dist-packages (from spotipy) (1.16.0)\n",
            "Requirement already satisfied: urllib3>=1.26.0 in /usr/local/lib/python3.10/dist-packages (from spotipy) (2.0.7)\n",
            "Requirement already satisfied: async-timeout>=4.0.2 in /usr/local/lib/python3.10/dist-packages (from redis>=3.5.3->spotipy) (4.0.3)\n",
            "Requirement already satisfied: charset-normalizer<4,>=2 in /usr/local/lib/python3.10/dist-packages (from requests>=2.25.0->spotipy) (3.3.2)\n",
            "Requirement already satisfied: idna<4,>=2.5 in /usr/local/lib/python3.10/dist-packages (from requests>=2.25.0->spotipy) (3.6)\n",
            "Requirement already satisfied: certifi>=2017.4.17 in /usr/local/lib/python3.10/dist-packages (from requests>=2.25.0->spotipy) (2023.11.17)\n",
            "Installing collected packages: redis, spotipy\n",
            "Successfully installed redis-5.0.1 spotipy-2.23.0\n"
          ]
        }
      ]
    },
    {
      "cell_type": "code",
      "source": [
        "import pandas as pd\n",
        "import spotipy\n",
        "from spotipy.oauth2 import SpotifyOAuth\n",
        "\n",
        "def get_trending_playlist_data(playlist_id, access_token):\n",
        "    # Set up Spotipy with the access token\n",
        "    sp = spotipy.Spotify(auth=access_token)\n",
        "\n",
        "    # Get the tracks from the playlist\n",
        "    playlist_tracks = sp.playlist_tracks(playlist_id, fields='items(track(id, name, artists, album(id, name)))')\n",
        "\n",
        "    # Extract relevant information and store in a list of dictionaries\n",
        "    music_data = []\n",
        "    for track_info in playlist_tracks['items']:\n",
        "        track = track_info['track']\n",
        "        track_name = track['name']\n",
        "        artists = ', '.join([artist['name'] for artist in track['artists']])\n",
        "        album_name = track['album']['name']\n",
        "        album_id = track['album']['id']\n",
        "        track_id = track['id']\n",
        "\n",
        "        # Get audio features for the track\n",
        "        audio_features = sp.audio_features(track_id)[0] if track_id != 'Not available' else None\n",
        "\n",
        "        # Get release date of the album\n",
        "        try:\n",
        "            album_info = sp.album(album_id) if album_id != 'Not available' else None\n",
        "            release_date = album_info['release_date'] if album_info else None\n",
        "        except:\n",
        "            release_date = None\n",
        "\n",
        "        # Get popularity of the track\n",
        "        try:\n",
        "            track_info = sp.track(track_id) if track_id != 'Not available' else None\n",
        "            popularity = track_info['popularity'] if track_info else None\n",
        "        except:\n",
        "            popularity = None\n",
        "\n",
        "        # Add additional track information to the track data\n",
        "        track_data = {\n",
        "            'Track Name': track_name,\n",
        "            'Artists': artists,\n",
        "            'Album Name': album_name,\n",
        "            'Album ID': album_id,\n",
        "            'Track ID': track_id,\n",
        "            'Popularity': popularity,\n",
        "            'Release Date': release_date,\n",
        "            'Duration (ms)': audio_features['duration_ms'] if audio_features else None,\n",
        "            'Explicit': track_info.get('explicit', None),\n",
        "            'External URLs': track_info.get('external_urls', {}).get('spotify', None),\n",
        "            'Danceability': audio_features['danceability'] if audio_features else None,\n",
        "            'Energy': audio_features['energy'] if audio_features else None,\n",
        "            'Key': audio_features['key'] if audio_features else None,\n",
        "            'Loudness': audio_features['loudness'] if audio_features else None,\n",
        "            'Mode': audio_features['mode'] if audio_features else None,\n",
        "            'Speechiness': audio_features['speechiness'] if audio_features else None,\n",
        "            'Acousticness': audio_features['acousticness'] if audio_features else None,\n",
        "            'Instrumentalness': audio_features['instrumentalness'] if audio_features else None,\n",
        "            'Liveness': audio_features['liveness'] if audio_features else None,\n",
        "            'Valence': audio_features['valence'] if audio_features else None,\n",
        "            'Tempo': audio_features['tempo'] if audio_features else None,\n",
        "            # Add more attributes as needed\n",
        "        }\n",
        "\n",
        "        music_data.append(track_data)\n",
        "\n",
        "    # Create a pandas DataFrame from the list of dictionaries\n",
        "    df = pd.DataFrame(music_data)\n",
        "\n",
        "    return df"
      ],
      "metadata": {
        "id": "VaHe9cUsjQYh"
      },
      "execution_count": null,
      "outputs": []
    },
    {
      "cell_type": "code",
      "source": [
        "playlist_id = 'https://open.spotify.com/playlist/37i9dQZF1DWUlxikDc4tqi?si=mnU3IKU5Rhy3jQfbBn3kLA'\n",
        "\n",
        "# Call the function to get the music data from the playlist and store it in a DataFrame\n",
        "music_df = get_trending_playlist_data(playlist_id, access_token)\n",
        "\n",
        "# Display the DataFrame\n",
        "print(music_df)"
      ],
      "metadata": {
        "colab": {
          "base_uri": "https://localhost:8080/"
        },
        "id": "aGxmVjP8kjq9",
        "outputId": "3ddbe030-82ab-4670-843e-0ef76435f8e9"
      },
      "execution_count": null,
      "outputs": [
        {
          "output_type": "stream",
          "name": "stdout",
          "text": [
            "                         Track Name  \\\n",
            "0                       Urike Urike   \n",
            "1   Aradhya (From \"Kushi\") (Telugu)   \n",
            "2                      Manasu Maree   \n",
            "3                      Kalalo Kooda   \n",
            "4                     Nenu Nuvvantu   \n",
            "..                              ...   \n",
            "70                       Emito Idhi   \n",
            "71              Inkosaari Inkosaari   \n",
            "72          Andhamaina Chandhamaama   \n",
            "73               Sara Sari - Telugu   \n",
            "74                       Chandamame   \n",
            "\n",
            "                                              Artists  \\\n",
            "0   Sid Sriram, Ramya Behara, MM Sreelekha, Krishn...   \n",
            "1                        Hesham Abdul Wahab, Chinmayi   \n",
            "2         Amit Trivedi, Shashaa Tirupati, Yazin Nizar   \n",
            "3       Tanishk Bagchi, Sid Sriram, Vaishnavi Kovvuri   \n",
            "4                    Naresh Iyer, Nadeesh, U.V.Jackey   \n",
            "..                                                ...   \n",
            "70                           Kapil Kapilan, Haripriya   \n",
            "71                     Shreya Ghoshal, Kaala Bhairava   \n",
            "72                               Haricharan, Chinmayi   \n",
            "73                Anurag Kulkarni, Mahati Swara Sagar   \n",
            "74                                        Yazin Nizar   \n",
            "\n",
            "                                           Album Name                Album ID  \\\n",
            "0                 Urike Urike (From \"Hit 2\") - Single  3iIpF1VSAmoP1zMejorHcK   \n",
            "1                     Aradhya (From \"Kushi\") (Telugu)  0kE8dio9BXYdLd8KGbJ6Zo   \n",
            "2                                                   V  47S3yMixAINohfHXD5vHfc   \n",
            "3   Liger (Telugu) [Original Motion Picture Soundt...  0bI7C4I6FzlNlZZDqJOfDJ   \n",
            "4                                              Orange  6bCI1qj8z8YEE2WJkGMKnn   \n",
            "..                                                ...                     ...   \n",
            "70                                            Rang De  0XnW4bdLspKx5YjNEcoDRX   \n",
            "71                                      Tuck Jagadish  7v7FYnTLCOg8vYiFAfzEvt   \n",
            "72                                     Tej I Love You  2UcsYpPlN4H8OCUCgZgqm4   \n",
            "73                                           Bheeshma  39BMeiHB5mV56M6wEoBveo   \n",
            "74                                                118  3B6ahyXhT47jUXBBvSXNav   \n",
            "\n",
            "                  Track ID  Popularity Release Date  Duration (ms)  Explicit  \\\n",
            "0   7dT21sIYXtxJpIEBIdUSuu          50   2022-11-11         275625     False   \n",
            "1   4KwsXvFDCoW7l1cfxhjTdD          71   2023-07-12         282222     False   \n",
            "2   57xczqwxDF0HZsuPyVEJXa          59   2022-03-01         267500     False   \n",
            "3   5Tn2aBp45QypSmCpmhKtJN          69   2022-08-27         246806     False   \n",
            "4   4swLsRDd6VI5BB1dej03L3          67   2010-10-25         287823     False   \n",
            "..                     ...         ...          ...            ...       ...   \n",
            "70  4CFhngi7fmVavVUjcLbH3X          43   2020-11-12         280501     False   \n",
            "71  7BvUOljRQxfVzVJQsUvwEZ          42   2021-02-13         206053     False   \n",
            "72  1ppVtZ1NasSaNRxrhzbfiz          42   2018-06-02         223324     False   \n",
            "73  5reyXAeNOIusd41ojqfBBq          46   2020-02-19         241304     False   \n",
            "74  5YrYRkIsZ4teFHveHYxeoT          42   2019-02-09         218477     False   \n",
            "\n",
            "                                        External URLs  ...  Energy  Key  \\\n",
            "0   https://open.spotify.com/track/7dT21sIYXtxJpIE...  ...   0.369    1   \n",
            "1   https://open.spotify.com/track/4KwsXvFDCoW7l1c...  ...   0.730    2   \n",
            "2   https://open.spotify.com/track/57xczqwxDF0HZsu...  ...   0.501   11   \n",
            "3   https://open.spotify.com/track/5Tn2aBp45QypSmC...  ...   0.596    5   \n",
            "4   https://open.spotify.com/track/4swLsRDd6VI5BB1...  ...   0.616    5   \n",
            "..                                                ...  ...     ...  ...   \n",
            "70  https://open.spotify.com/track/4CFhngi7fmVavVU...  ...   0.407    9   \n",
            "71  https://open.spotify.com/track/7BvUOljRQxfVzVJ...  ...   0.549    4   \n",
            "72  https://open.spotify.com/track/1ppVtZ1NasSaNRx...  ...   0.656    9   \n",
            "73  https://open.spotify.com/track/5reyXAeNOIusd41...  ...   0.727    7   \n",
            "74  https://open.spotify.com/track/5YrYRkIsZ4teFHv...  ...   0.744    9   \n",
            "\n",
            "    Loudness  Mode  Speechiness  Acousticness  Instrumentalness  Liveness  \\\n",
            "0     -9.413     1       0.0453         0.377          0.000000    0.0939   \n",
            "1     -5.687     1       0.0358         0.642          0.000102    0.0994   \n",
            "2     -6.552     1       0.0316         0.767          0.004100    0.1060   \n",
            "3     -6.580     1       0.0289         0.651          0.000000    0.0692   \n",
            "4     -8.798     0       0.0354         0.154          0.000019    0.1250   \n",
            "..       ...   ...          ...           ...               ...       ...   \n",
            "70    -8.214     0       0.0286         0.886          0.000670    0.1450   \n",
            "71    -7.098     0       0.0285         0.837          0.000120    0.0729   \n",
            "72    -7.265     0       0.0550         0.404          0.000347    0.1300   \n",
            "73    -5.566     0       0.1760         0.335          0.000060    0.2530   \n",
            "74    -6.598     0       0.1420         0.160          0.000000    0.0697   \n",
            "\n",
            "    Valence    Tempo  \n",
            "0     0.179  113.341  \n",
            "1     0.378  107.962  \n",
            "2     0.511  120.076  \n",
            "3     0.605  108.011  \n",
            "4     0.758   91.981  \n",
            "..      ...      ...  \n",
            "70    0.605  139.855  \n",
            "71    0.444  111.004  \n",
            "72    0.535   99.975  \n",
            "73    0.544  183.903  \n",
            "74    0.786  180.045  \n",
            "\n",
            "[75 rows x 21 columns]\n"
          ]
        }
      ]
    },
    {
      "cell_type": "code",
      "source": [
        "print(music_df.isnull().sum())"
      ],
      "metadata": {
        "colab": {
          "base_uri": "https://localhost:8080/"
        },
        "id": "ZVT4VTkAlmkd",
        "outputId": "c93dbd19-9be1-469d-baa4-4c79e7252e24"
      },
      "execution_count": null,
      "outputs": [
        {
          "output_type": "stream",
          "name": "stdout",
          "text": [
            "Track Name          0\n",
            "Artists             0\n",
            "Album Name          0\n",
            "Album ID            0\n",
            "Track ID            0\n",
            "Popularity          0\n",
            "Release Date        0\n",
            "Duration (ms)       0\n",
            "Explicit            0\n",
            "External URLs       0\n",
            "Danceability        0\n",
            "Energy              0\n",
            "Key                 0\n",
            "Loudness            0\n",
            "Mode                0\n",
            "Speechiness         0\n",
            "Acousticness        0\n",
            "Instrumentalness    0\n",
            "Liveness            0\n",
            "Valence             0\n",
            "Tempo               0\n",
            "dtype: int64\n"
          ]
        }
      ]
    },
    {
      "cell_type": "code",
      "source": [
        "import pandas as pd\n",
        "import numpy as np\n",
        "from sklearn.model_selection import train_test_split\n",
        "from sklearn.preprocessing import MinMaxScaler\n",
        "from datetime import datetime\n",
        "from sklearn.metrics.pairwise import cosine_similarity\n",
        "\n",
        "data = music_df"
      ],
      "metadata": {
        "id": "z1iCNklRmD4t"
      },
      "execution_count": null,
      "outputs": []
    },
    {
      "cell_type": "code",
      "source": [
        "# Function to calculate weighted popularity scores based on release date\n",
        "def calculate_weighted_popularity(release_date):\n",
        "    # Convert the release date to datetime object\n",
        "    release_date = datetime.strptime(release_date, '%Y-%m-%d')\n",
        "\n",
        "    # Calculate the time span between release date and today's date\n",
        "    time_span = datetime.now() - release_date\n",
        "\n",
        "    # Calculate the weighted popularity score based on time span (e.g., more recent releases have higher weight)\n",
        "    weight = 1 / (time_span.days + 1)\n",
        "    return weight"
      ],
      "metadata": {
        "id": "Q3yDKIhmmr7-"
      },
      "execution_count": null,
      "outputs": []
    },
    {
      "cell_type": "code",
      "source": [
        "# Normalize the music features using Min-Max scaling\n",
        "scaler = MinMaxScaler()\n",
        "music_features = music_df[['Danceability', 'Energy', 'Key',\n",
        "                           'Loudness', 'Mode', 'Speechiness', 'Acousticness',\n",
        "                           'Instrumentalness', 'Liveness', 'Valence', 'Tempo']].values\n",
        "music_features_scaled = scaler.fit_transform(music_features)"
      ],
      "metadata": {
        "id": "1xr8f4tSm2IH"
      },
      "execution_count": null,
      "outputs": []
    },
    {
      "cell_type": "code",
      "source": [
        "# a function to get content-based recommendations based on music features\n",
        "def content_based_recommendations(input_song_name, num_recommendations=5):\n",
        "    if input_song_name not in music_df['Track Name'].values:\n",
        "        print(f\"'{input_song_name}' not found in the dataset. Please enter a valid song name.\")\n",
        "        return\n",
        "\n",
        "    # Get the index of the input song in the music DataFrame\n",
        "    input_song_index = music_df[music_df['Track Name'] == input_song_name].index[0]\n",
        "\n",
        "    # Calculate the similarity scores based on music features (cosine similarity)\n",
        "    similarity_scores = cosine_similarity([music_features_scaled[input_song_index]], music_features_scaled)\n",
        "\n",
        "    # Get the indices of the most similar songs\n",
        "    similar_song_indices = similarity_scores.argsort()[0][::-1][1:num_recommendations + 1]\n",
        "\n",
        "    # Get the names of the most similar songs based on content-based filtering\n",
        "    content_based_recommendations = music_df.iloc[similar_song_indices][['Track Name', 'Artists', 'Album Name', 'Release Date', 'Popularity']]\n",
        "\n",
        "    return content_based_recommendations"
      ],
      "metadata": {
        "id": "DddyTzGnm-m1"
      },
      "execution_count": null,
      "outputs": []
    },
    {
      "cell_type": "code",
      "source": [
        "# a function to get hybrid recommendations based on weighted popularity\n",
        "def hybrid_recommendations(input_song_name, num_recommendations=5, alpha=0.5):\n",
        "    if input_song_name not in music_df['Track Name'].values:\n",
        "        print(f\"'{input_song_name}' not found in the dataset. Please enter a valid song name.\")\n",
        "        return\n",
        "\n",
        "    # Get content-based recommendations\n",
        "    content_based_rec = content_based_recommendations(input_song_name, num_recommendations)\n",
        "\n",
        "    # Get the popularity score of the input song\n",
        "    popularity_score = music_df.loc[music_df['Track Name'] == input_song_name, 'Popularity'].values[0]\n",
        "\n",
        "    # Calculate the weighted popularity score\n",
        "    weighted_popularity_score = popularity_score * calculate_weighted_popularity(music_df.loc[music_df['Track Name'] == input_song_name, 'Release Date'].values[0])\n",
        "\n",
        "    # Combine content-based and popularity-based recommendations based on weighted popularity\n",
        "    hybrid_recommendations = content_based_rec\n",
        "    hybrid_recommendations = hybrid_recommendations.append({\n",
        "        'Track Name': input_song_name,\n",
        "        'Artists': music_df.loc[music_df['Track Name'] == input_song_name, 'Artists'].values[0],\n",
        "        'Album Name': music_df.loc[music_df['Track Name'] == input_song_name, 'Album Name'].values[0],\n",
        "        'Release Date': music_df.loc[music_df['Track Name'] == input_song_name, 'Release Date'].values[0],\n",
        "        'Popularity': weighted_popularity_score\n",
        "    }, ignore_index=True)\n",
        "\n",
        "    # Sort the hybrid recommendations based on weighted popularity score\n",
        "    hybrid_recommendations = hybrid_recommendations.sort_values(by='Popularity', ascending=False)\n",
        "\n",
        "    # Remove the input song from the recommendations\n",
        "    hybrid_recommendations = hybrid_recommendations[hybrid_recommendations['Track Name'] != input_song_name]\n",
        "\n",
        "\n",
        "    return hybrid_recommendations"
      ],
      "metadata": {
        "id": "AHiEkONfnElY"
      },
      "execution_count": null,
      "outputs": []
    },
    {
      "cell_type": "code",
      "source": [
        "input_song_name = \"Chiru Chiru\"\n",
        "recommendations = hybrid_recommendations(input_song_name, num_recommendations=5)\n",
        "print(f\"Hybrid recommended songs for '{input_song_name}':\")\n",
        "print(recommendations)"
      ],
      "metadata": {
        "colab": {
          "base_uri": "https://localhost:8080/"
        },
        "id": "w0O6qBOCnNXX",
        "outputId": "37a5d45e-0e25-4078-c615-7d3665fc1fb2"
      },
      "execution_count": null,
      "outputs": [
        {
          "output_type": "stream",
          "name": "stdout",
          "text": [
            "Hybrid recommended songs for 'Chiru Chiru':\n",
            "                Track Name                                Artists  \\\n",
            "3            Nenu Nuvvantu       Naresh Iyer, Nadeesh, U.V.Jackey   \n",
            "0              Endhuko Emo               Aalaap Raju, Prasanthini   \n",
            "2         Idhedho Bagundhe                  Vijay Prakash, Anitha   \n",
            "4             Ee Manchullo  Sriram Parthasarathy, Bombay Jayashri   \n",
            "1  Andhamaina Chandhamaama                   Haricharan, Chinmayi   \n",
            "\n",
            "       Album Name Release Date  Popularity  \n",
            "3          Orange   2010-10-25        67.0  \n",
            "0          Rangam   2011-04-09        63.0  \n",
            "2          Mirchi   2013-01-05        62.0  \n",
            "4          Rangam   2011-04-09        50.0  \n",
            "1  Tej I Love You   2018-06-02        42.0  \n"
          ]
        },
        {
          "output_type": "stream",
          "name": "stderr",
          "text": [
            "<ipython-input-12-3de633f34e34>:18: FutureWarning: The frame.append method is deprecated and will be removed from pandas in a future version. Use pandas.concat instead.\n",
            "  hybrid_recommendations = hybrid_recommendations.append({\n"
          ]
        }
      ]
    }
  ]
}